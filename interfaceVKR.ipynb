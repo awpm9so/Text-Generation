{
 "cells": [
  {
   "cell_type": "code",
   "execution_count": 122,
   "metadata": {},
   "outputs": [],
   "source": [
    "from tkinter import *\n",
    "from tkinter import messagebox \n",
    "from tkinter.ttk import Progressbar  \n",
    "from tkinter import filedialog\n",
    "from functools import partial"
   ]
  },
  {
   "cell_type": "code",
   "execution_count": 155,
   "metadata": {},
   "outputs": [],
   "source": [
    "def insertText():\n",
    "    file_name = filedialog.askopenfilename()\n",
    "    f = open(file_name)\n",
    "    s = f.read()\n",
    "    text.insert(1.0, s)\n",
    "    f.close()\n",
    "    \n",
    "def extractText():\n",
    "    ftypes = [('TXT files', '*.txt'), ('All files', '*')]\n",
    "    file_name = filedialog.asksaveasfilename(filetypes=ftypes)\n",
    "    f = open(file_name, 'w')\n",
    "    s = text.get(1.0, END)\n",
    "    f.write(s)\n",
    "    f.close()\n",
    "\n",
    "def btn_source_text(s):\n",
    "    file_name = filedialog.askopenfilename()\n",
    "    label_source_text['text'] = file_name\n",
    "    \n",
    "def btn_model():\n",
    "    file_name = filedialog.askopenfilename()\n",
    "    label_model['text'] = file_name"
   ]
  },
  {
   "cell_type": "code",
   "execution_count": 162,
   "metadata": {},
   "outputs": [],
   "source": [
    "window = Tk()\n",
    "window.geometry('820x450')\n",
    "window.title(\"Генератор текста\")\n",
    "window.resizable(False, False)\n",
    "\n",
    "btn_gen_text = Button(text=\"Сгенерировать текст\", background=\"#555\", foreground=\"#ccc\",font=\"15\")\n",
    "btn_gen_text.place(relx=0.75, y = 20)   \n",
    "\n",
    "someNumber = 556\n",
    "btn_source_text = Button(text=\"Исходный текст\", background=\"#555\", foreground=\"#ccc\",\n",
    "              padx=\"4\", pady=\"1\", font=\"15\", command= btn_source_text)\n",
    "btn_source_text.place(x=10, y=2)\n",
    "\n",
    "btn_model = Button(text=\"Обученная модель\", background=\"#555\", foreground=\"#ccc\",\n",
    "              padx=\"4\", pady=\"1\", font=\"15\",command=btn_model)\n",
    "btn_model.place(x=10, y=50)\n",
    "\n",
    "text = Text(wrap=WORD, width=100, height=22)\n",
    "text.place(x=2, y = 90)\n",
    "\n",
    "label_source_text = Label(text=\"Не выбрано\", justify=LEFT)\n",
    "label_source_text.place(x=160, y=8)\n",
    "\n",
    "label_model = Label(text=\"Не выбрано\", justify=LEFT)\n",
    "label_model.place(x=175, y=56)\n",
    "\n",
    "scroll = Scrollbar(command=text.yview)\n",
    "scroll.pack(side=RIGHT, fill=Y)\n",
    " \n",
    "text.config(yscrollcommand=scroll.set)\n",
    "\n",
    "\n",
    "main_menu = Menu()\n",
    "\n",
    "file_menu = Menu(tearoff=0)\n",
    "file_menu.add_command(label=\"Сохранить\", command=extractText)\n",
    "file_menu.add_command(label=\"Открыть\", command=insertText)\n",
    " \n",
    "method_menu = Menu(tearoff=0)\n",
    "method_menu.add_command(label=\"Нейронная сеть\")\n",
    "method_menu.add_command(label=\"Цепи Маркова\")\n",
    "    \n",
    "main_menu.add_cascade(label=\"Файл\", menu=file_menu)\n",
    "main_menu.add_cascade(label=\"Метод генерации\", menu=method_menu)\n",
    "main_menu.add_cascade(label=\"Обучить\", menu=method_menu)\n",
    "\n",
    "\n",
    "window.config(menu=main_menu)\n",
    "window.mainloop()\n"
   ]
  },
  {
   "cell_type": "code",
   "execution_count": null,
   "metadata": {},
   "outputs": [],
   "source": []
  }
 ],
 "metadata": {
  "kernelspec": {
   "display_name": "Python 3",
   "language": "python",
   "name": "python3"
  },
  "language_info": {
   "codemirror_mode": {
    "name": "ipython",
    "version": 3
   },
   "file_extension": ".py",
   "mimetype": "text/x-python",
   "name": "python",
   "nbconvert_exporter": "python",
   "pygments_lexer": "ipython3",
   "version": "3.7.6"
  }
 },
 "nbformat": 4,
 "nbformat_minor": 4
}
